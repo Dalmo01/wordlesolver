{
 "cells": [
  {
   "cell_type": "code",
   "execution_count": 212,
   "metadata": {
    "id": "8vwnHWR1_lXE"
   },
   "outputs": [],
   "source": [
    "import itertools\n",
    "import matplotlib.pyplot as plt\n",
    "import numpy as np\n",
    "import matplotlib.gridspec as gridspec\n",
    "import pandas as pd\n",
    "from tqdm.notebook import tqdm\n",
    "import math\n"
   ]
  },
  {
   "cell_type": "code",
   "execution_count": 209,
   "metadata": {
    "id": "_FHI_0zOrzvu"
   },
   "outputs": [],
   "source": [
    "possible_patterns=list(itertools.product([0,1,2],repeat=5))"
   ]
  },
  {
   "cell_type": "code",
   "execution_count": null,
   "metadata": {
    "colab": {
     "base_uri": "https://localhost:8080/",
     "height": 73,
     "resources": {
      "http://localhost:8080/nbextensions/google.colab/files.js": {
       "data": "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",
       "headers": [
        [
         "content-type",
         "application/javascript"
        ]
       ],
       "ok": true,
       "status": 200,
       "status_text": ""
      }
     }
    },
    "id": "N-tQNsBxr4Yo",
    "outputId": "bdf4eb4e-d4d6-48fa-aa31-b33016584252"
   },
   "outputs": [],
   "source": []
  },
  {
   "cell_type": "code",
   "execution_count": null,
   "metadata": {
    "id": "X65mJJX5sqL0"
   },
   "outputs": [],
   "source": [
    "dict1=pd.read_csv('d5l.csv',encoding='latin-1',header=None).drop_duplicates()"
   ]
  },
  {
   "cell_type": "code",
   "execution_count": null,
   "metadata": {
    "colab": {
     "base_uri": "https://localhost:8080/",
     "height": 424
    },
    "id": "meFyQIUJtdX1",
    "outputId": "d8a8777f-44f0-4a48-e973-9b1f9dfc6ca8"
   },
   "outputs": [],
   "source": [
    "dict1.size"
   ]
  },
  {
   "cell_type": "code",
   "execution_count": null,
   "metadata": {
    "id": "F7TOBxtTrqAf"
   },
   "outputs": [],
   "source": [
    "def check(guess,solution):\n",
    "    checkvec=[]\n",
    "    checkvec2=[]\n",
    "    checked_letters=[]\n",
    "    for i in guess:\n",
    "        if i not in checked_letters:\n",
    "            if i not in solution:\n",
    "                checkvec.append(0)\n",
    "            elif guess.index(i)==solution.index(i):\n",
    "                checkvec.append(1)\n",
    "            else: checkvec.append(2)\n",
    "        else: \n",
    "            if i not in solution.replace(i,'-',checked_letters.count(i)):\n",
    "                checkvec.append(0)\n",
    "            elif guess.replace(i,'-',checked_letters.count(i)).index(i)==solution.replace(i,'-',checked_letters.count(i)).index(i):\n",
    "                checkvec.append(1)\n",
    "            else:\n",
    "                checkvec.append(2) \n",
    "        checked_letters.append(i)\n",
    "    \n",
    "\n",
    "    return tuple(checkvec)"
   ]
  },
  {
   "cell_type": "code",
   "execution_count": null,
   "metadata": {},
   "outputs": [],
   "source": [
    "def indexof(string,char):\n",
    "    indices = [i for i, c in enumerate(string) if c == char]\n",
    "    return indices"
   ]
  },
  {
   "cell_type": "code",
   "execution_count": null,
   "metadata": {},
   "outputs": [],
   "source": [
    "indexof('ababa','a')"
   ]
  },
  {
   "cell_type": "code",
   "execution_count": null,
   "metadata": {},
   "outputs": [],
   "source": [
    "def check_alt(guess,solution):\n",
    "    checkvec=[0,0,0,0,0]\n",
    "    for i in guess:\n",
    "        ocurrencias_guess=indexof(guess,i)\n",
    "        ocurrencias_solution=indexof(solution,i)\n",
    "        if len(ocurrencias_guess)<=len(ocurrencias_solution):\n",
    "            if ocurrencias_guess==ocurrencias_solution:\n",
    "                for j in ocurrencias_guess:\n",
    "                    checkvec[j]=1\n",
    "            else:\n",
    "                coincidences=[j for j in ocurrencias_guess if j in ocurrencias_solution]\n",
    "                notcoincidences=[j for j in ocurrencias_guess if j not in ocurrencias_solution]\n",
    "                for j in coincidences:\n",
    "                    checkvec[j]=1\n",
    "                for j in notcoincidences:\n",
    "                    checkvec[j]=2\n",
    "        if len(ocurrencias_guess)>len(ocurrencias_solution):\n",
    "            k=0\n",
    "            coincidences=[j for j in ocurrencias_guess if j in ocurrencias_solution]\n",
    "            notcoincidences=[j for j in ocurrencias_guess if j not in ocurrencias_solution]\n",
    "            for j in coincidences:\n",
    "                    checkvec[j]=1\n",
    "                    k+=1\n",
    "            for j in notcoincidences:\n",
    "                if k<len(ocurrencias_solution):\n",
    "                    checkvec[j]=2\n",
    "                    k+=1\n",
    "                else:\n",
    "                    continue\n",
    "# def check_alt(guess,solution):\n",
    "#     checkvec=[0,0,0,0,0]\n",
    "#     for i in guess:\n",
    "#         ocurrencias_guess=indexof(guess,i)\n",
    "#         ocurrencias_solucion=indexof(solution,i))\n",
    "#         if len(indexof(guess,i))<=len(indexof(solution,i)):\n",
    "#             if indexof(guess,i)==indexof(solution,i):\n",
    "#                 for j in indexof(guess,i):\n",
    "#                     checkvec[j]=1\n",
    "#             else:\n",
    "#                 coincidences=[j for j in indexof(guess,i) if j in indexof(solution,i)]\n",
    "#                 notcoincidences=[j for j in indexof(guess,i) if j not in indexof(solution,i)]\n",
    "#                 for j in coincidences:\n",
    "#                     checkvec[j]=1\n",
    "#                 for j in notcoincidences:\n",
    "#                     checkvec[j]=2\n",
    "#         if len(indexof(guess,i))>len(indexof(solution,i)):\n",
    "#             k=0\n",
    "#             totalocurrencias=len(indexof(solution,i))\n",
    "#             coincidences=[j for j in indexof(guess,i) if j in indexof(solution,i)]\n",
    "#             notcoincidences=[j for j in indexof(guess,i) if j not in indexof(solution,i)]\n",
    "#             for j in coincidences:\n",
    "#                     checkvec[j]=1\n",
    "#                     k+=1\n",
    "#             for j in notcoincidences:\n",
    "#                 if k<totalocurrencias:\n",
    "#                     checkvec[j]=2\n",
    "#                     k+=1\n",
    "#                 else:\n",
    "#                     continue\n",
    "#         if len(indexof(guess,i))<len(indexof(solution,i)):\n",
    "#             coincidences=[j for j in indexof(guess,i) if j in indexof(solution,i)]\n",
    "#             notcoincidences=[j for j in indexof(guess,i) if j not in indexof(solution,i)]\n",
    "#             for j in coincidences:\n",
    "#                     checkvec[j]=1\n",
    "#             for j in notcoincidences:\n",
    "#                     checkvec[j]=2\n",
    "            \n",
    "                \n",
    "            \n",
    "    return checkvec\n",
    "        \n",
    "    "
   ]
  },
  {
   "cell_type": "code",
   "execution_count": null,
   "metadata": {
    "colab": {
     "base_uri": "https://localhost:8080/"
    },
    "id": "SzKayxgAuh9G",
    "outputId": "56f11362-c62b-430d-b45d-84a636122455"
   },
   "outputs": [],
   "source": [
    "check_alt('abbaa','ababb')"
   ]
  },
  {
   "cell_type": "code",
   "execution_count": null,
   "metadata": {
    "colab": {
     "base_uri": "https://localhost:8080/",
     "height": 35
    },
    "id": "jkws4rMoy2_e",
    "outputId": "a204a7e6-bad2-4cea-80d9-b2d5a3749543"
   },
   "outputs": [],
   "source": [
    "def regexpgen(guess,checkvec):\n",
    "  guessvector=zip(guess,checkvec)\n",
    "  regexp=''\n",
    "  for i,j in guessvector:\n",
    "    if j==0 or j==2:\n",
    "      regexp+='.'\n",
    "    elif j==1:\n",
    "      regexp+=i\n",
    "  return regexp\n",
    "regexpgen('adboo',(0,0,1,2,0))"
   ]
  },
  {
   "cell_type": "code",
   "execution_count": null,
   "metadata": {
    "colab": {
     "base_uri": "https://localhost:8080/",
     "height": 35
    },
    "id": "hRfZgjAV2b4Z",
    "outputId": "d397051c-58d0-40b0-b03c-5b60e9f8024d"
   },
   "outputs": [],
   "source": [
    "def softmatches(guess,checkvec):\n",
    "  guessvector=zip(guess,checkvec)\n",
    "  regexp=''\n",
    "  for i,j in guessvector:\n",
    "    if j==2:\n",
    "      regexp+=i\n",
    "     \n",
    "  return regexp\n",
    "\n",
    "softmatches('adboo',(0,1,2,0,0))"
   ]
  },
  {
   "cell_type": "code",
   "execution_count": null,
   "metadata": {
    "id": "q7p_MPz1JAfA"
   },
   "outputs": [],
   "source": [
    "def nonmatches(guess,checkvec):\n",
    "    guessvector=zip(guess,checkvec)\n",
    "    regexp=''\n",
    "    for i,j in guessvector:\n",
    "      if j==0:\n",
    "       regexp+=i\n",
    "     \n",
    "  \n",
    "    if regexp=='':\n",
    "      regexp='1' \n",
    "  \n",
    "\n",
    "     \n",
    "    return regexp\n"
   ]
  },
  {
   "cell_type": "code",
   "execution_count": null,
   "metadata": {
    "id": "-adeZv-uvo7L"
   },
   "outputs": [],
   "source": [
    "def possible_guesses(guess,checkvec,dict1):\n",
    "        guessvector=zip(guess,checkvec)\n",
    "        sm=softmatches(guess,checkvec)\n",
    "        nm=nonmatches(guess,checkvec)\n",
    "        nm2=nm\n",
    "\n",
    "        for i in nm:\n",
    "            if i in sm or i in regexpgen(guess,checkvec):\n",
    "                nm2=nm2.replace(i,'1')\n",
    "        possible_words= dict1[dict1[0].str.fullmatch(regexpgen(guess,checkvec))]\n",
    "        for i in sm:\n",
    "            possible_words= possible_words[possible_words[0].str.contains(i)]\n",
    "        for i in nm2:\n",
    "            possible_words= possible_words[~possible_words[0].str.contains(i)]\n",
    "  #print(f'Intentamos con {guess} \\n Resultó en {checkvec} \\n Las palabras posibles son \\n {possible_words[0]} ')\n",
    "        return [possible_words,int(possible_words.shape[0])]\n",
    "\n",
    "\n",
    "\n",
    "\n"
   ]
  },
  {
   "cell_type": "code",
   "execution_count": null,
   "metadata": {},
   "outputs": [],
   "source": [
    "def stats(diccionario):\n",
    "    letras='abcdefghijklmnopqrstuvwxyzñ'\n",
    "    contador=np.zeros(len(letras),dtype=int)\n",
    "    length=diccionario.size\n",
    "    for i in diccionario[0]:\n",
    "        for j in ''.join(set(i)):\n",
    "            try:\n",
    "                contador[letras.index(j)]+=i.count(j)\n",
    "            except:\n",
    "                continue\n",
    "    return list(sorted(zip(letras,list(contador)),key=lambda x: x[1],reverse=True))\n",
    "            \n",
    "        "
   ]
  },
  {
   "cell_type": "code",
   "execution_count": 77,
   "metadata": {},
   "outputs": [
    {
     "name": "stdout",
     "output_type": "stream",
     "text": [
      "[1, 2, 0, 0, 1]\n",
      "[1, 0, 2, 0, 1]\n"
     ]
    }
   ],
   "source": [
    "print(check_alt('aacaa','ababa'))\n",
    "print(check_alt('ababa','aacaa'))"
   ]
  },
  {
   "cell_type": "code",
   "execution_count": 86,
   "metadata": {},
   "outputs": [
    {
     "data": {
      "application/vnd.jupyter.widget-view+json": {
       "model_id": "fae065e57a6b43709d49e66869897849",
       "version_major": 2,
       "version_minor": 0
      },
      "text/plain": [
       "  0%|          | 0/10064 [00:00<?, ?it/s]"
      ]
     },
     "metadata": {},
     "output_type": "display_data"
    },
    {
     "name": "stdout",
     "output_type": "stream",
     "text": [
      "(1, 1, 0, 0, 0)\n",
      "\n",
      "aba\n",
      "111\n"
     ]
    },
    {
     "data": {
      "text/plain": [
       "[        0\n",
       " 0   ababa\n",
       " 1   abaca\n",
       " 2   abaco\n",
       " 3   abada\n",
       " 4   abadi\n",
       " ..    ...\n",
       " 69  abusa\n",
       " 70  abuse\n",
       " 71  abuso\n",
       " 72  abuza\n",
       " 73  abuzo\n",
       " \n",
       " [74 rows x 1 columns],\n",
       " 74]"
      ]
     },
     "execution_count": 86,
     "metadata": {},
     "output_type": "execute_result"
    }
   ],
   "source": [
    "sizemat=np.zeros((dict1.size,dict1.size,5))\n",
    "for i,guess in enumerate(tqdm(dict1[0])):\n",
    "    for j,word in enumerate (dict1[0]):\n",
    "#         print(guess,word)\n",
    "        sizemat[i,j,:]= check_alt(guess,word)\n",
    "#         sizemat[i,j]= possible_guesses(guess,check(guess,word),dict1)[1]\n",
    "#         print(sizemat[i,j])\n",
    "print(check('ababa','aboco'))\n",
    "possible_guesses('ababa',check('ababa','aboco'),dict1)"
   ]
  },
  {
   "cell_type": "code",
   "execution_count": 91,
   "metadata": {},
   "outputs": [],
   "source": [
    "checkvecs=np.copy(sizemat)"
   ]
  },
  {
   "cell_type": "code",
   "execution_count": 177,
   "metadata": {},
   "outputs": [],
   "source": [
    "def rowindexof(word,dict1):\n",
    "    return dict1.index[dict1[0]==word].tolist()"
   ]
  },
  {
   "cell_type": "code",
   "execution_count": 204,
   "metadata": {},
   "outputs": [],
   "source": [
    "def possibleguessesvec(word,checkvec,dict1,regcheckvecs):\n",
    "    #me pisé con las variables, pero checkvec es el resultado del check de la palabra, y regcheckvecs es la matriz de todos los vectores.\n",
    "    index=rowindexof(word,dict1)[0]\n",
    "    possiblewords=[]\n",
    "    for c,i in enumerate(regcheckvecs[index,:]):\n",
    "        if (i==checkvec).all():\n",
    "            possiblewords.append(dict1[0].iloc[c])\n",
    "    return possiblewords"
   ]
  },
  {
   "cell_type": "code",
   "execution_count": 207,
   "metadata": {},
   "outputs": [],
   "source": [
    "def numberpossibleguessesvec(word,checkvec,dict1,regcheckvecs):\n",
    "    #me pisé con las variables, pero checkvec es el resultado del check de la palabra, y regcheckvecs es la matriz de todos los vectores.\n",
    "    index=rowindexof(word,dict1)[0]\n",
    "    possiblewords=0\n",
    "    for c,i in enumerate(regcheckvecs[index,:]):\n",
    "        if (i==checkvec).all():\n",
    "            possiblewords+=1\n",
    "    return possiblewords"
   ]
  },
  {
   "cell_type": "code",
   "execution_count": 211,
   "metadata": {},
   "outputs": [
    {
     "data": {
      "text/plain": [
       "3164"
      ]
     },
     "execution_count": 211,
     "metadata": {},
     "output_type": "execute_result"
    }
   ],
   "source": [
    "numberpossibleguessesvec('ababa',possible_patterns[0],dict1,checkvecs)"
   ]
  },
  {
   "cell_type": "code",
   "execution_count": 231,
   "metadata": {},
   "outputs": [],
   "source": [
    "def safelog2(x):\n",
    "    try:\n",
    "        y = math.log2(x)\n",
    "        if y>0:\n",
    "            return y\n",
    "    except: \n",
    "        return float(0.0001)"
   ]
  },
  {
   "cell_type": "code",
   "execution_count": 233,
   "metadata": {},
   "outputs": [],
   "source": [
    "def exp_info_word(word,possible_patterns,dict1,regcheckvecs):\n",
    "    accum=0\n",
    "    for i in possible_patterns:\n",
    "        px=numberpossibleguessesvec(word,i,dict1,regcheckvecs)/dict1.size\n",
    "        if px>0:\n",
    "            accum+=(px)*safelog2(1/px)\n",
    "        else: \n",
    "            continue\n",
    "    return accum"
   ]
  },
  {
   "cell_type": "code",
   "execution_count": 234,
   "metadata": {},
   "outputs": [
    {
     "name": "stdout",
     "output_type": "stream",
     "text": [
      "0.5248336315673845\n",
      "0.8815976469548801\n",
      "0.9190010761853491\n",
      "0.938319901795576\n",
      "1.0857694311964765\n",
      "1.172036168525744\n",
      "1.1784224684300515\n",
      "1.1977412940402785\n",
      "1.2125217649574156\n",
      "1.2215780965203065\n",
      "1.225069338682317\n",
      "1.227513081966673\n",
      "1.3720258888986583\n",
      "1.4386504096793495\n",
      "1.445036709583657\n",
      "1.4485279517456675\n",
      "1.4575842833085584\n",
      "1.4600280265929144\n",
      "1.4690843581558053\n",
      "1.4763803566647233\n",
      "1.7028165976531342\n",
      "1.8229821663389358\n",
      "1.8302781648478539\n",
      "1.8366644647521613\n",
      "1.9068690653194613\n",
      "1.950335094362936\n",
      "1.957631092871854\n",
      "1.9649270913807722\n",
      "2.066576375128111\n",
      "2.0678976108402414\n",
      "2.0935955755452555\n",
      "2.1051758065144424\n",
      "2.107619549798798\n",
      "2.1089407855109283\n",
      "2.1237212564280656\n",
      "2.131017254936984\n",
      "2.132338490649114\n",
      "2.1368285209380167\n",
      "2.1467400751033505\n",
      "2.1491838183877063\n",
      "2.1546364158201348\n",
      "2.642591690867729\n",
      "2.82753048328047\n",
      "2.8483062075399888\n",
      "2.860702292034583\n",
      "2.8661548894670115\n",
      "3.0567783848233048\n",
      "3.0612684151122074\n",
      "3.193312498421825\n",
      "3.2294700287968725\n",
      "3.232961270958883\n",
      "3.2354050142432387\n",
      "3.2461574318178275\n",
      "3.2474786675299576\n",
      "3.289753060712065\n",
      "3.291074296424195\n",
      "3.293518039708551\n"
     ]
    },
    {
     "data": {
      "text/plain": [
       "3.293518039708551"
      ]
     },
     "execution_count": 234,
     "metadata": {},
     "output_type": "execute_result"
    }
   ],
   "source": [
    "rank=[]\n",
    "for c,word in enumerate(dict1[0]):\n",
    "    rank.sort(reverse=True)\n",
    "    info=exp_info_word(word,possible_patterns,dict1,checkvecs)\n",
    "    if info>min(rank) or len(rank)<10:\n",
    "        rank[-1]=info\n",
    "        \n",
    "    \n",
    "        "
   ]
  }
 ],
 "metadata": {
  "colab": {
   "name": "wordle checker.ipynb",
   "provenance": []
  },
  "kernelspec": {
   "display_name": "Python 3 (ipykernel)",
   "language": "python",
   "name": "python3"
  },
  "language_info": {
   "codemirror_mode": {
    "name": "ipython",
    "version": 3
   },
   "file_extension": ".py",
   "mimetype": "text/x-python",
   "name": "python",
   "nbconvert_exporter": "python",
   "pygments_lexer": "ipython3",
   "version": "3.9.7"
  }
 },
 "nbformat": 4,
 "nbformat_minor": 1
}
